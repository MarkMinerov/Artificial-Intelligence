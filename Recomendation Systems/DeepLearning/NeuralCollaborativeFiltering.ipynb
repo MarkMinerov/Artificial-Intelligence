{
 "cells": [
  {
   "cell_type": "code",
   "execution_count": 1,
   "id": "6e5d8c3c",
   "metadata": {},
   "outputs": [
    {
     "name": "stdout",
     "output_type": "stream",
     "text": [
      "Requirement already satisfied: torch in e:\\anaconda3\\lib\\site-packages (2.0.1)\n",
      "Requirement already satisfied: sympy in e:\\anaconda3\\lib\\site-packages (from torch) (1.11.1)\n",
      "Requirement already satisfied: networkx in e:\\anaconda3\\lib\\site-packages (from torch) (2.8.8)\n",
      "Requirement already satisfied: filelock in e:\\anaconda3\\lib\\site-packages (from torch) (3.8.2)\n",
      "Requirement already satisfied: jinja2 in e:\\anaconda3\\lib\\site-packages (from torch) (3.1.2)\n",
      "Requirement already satisfied: typing-extensions in e:\\anaconda3\\lib\\site-packages (from torch) (4.4.0)\n",
      "Requirement already satisfied: MarkupSafe>=2.0 in e:\\anaconda3\\lib\\site-packages (from jinja2->torch) (2.1.1)\n",
      "Requirement already satisfied: mpmath>=0.19 in e:\\anaconda3\\lib\\site-packages (from sympy->torch) (1.2.1)\n",
      "Requirement already satisfied: LibRecommender in e:\\anaconda3\\lib\\site-packages (1.3.0)\n",
      "Requirement already satisfied: tqdm in e:\\anaconda3\\lib\\site-packages (from LibRecommender) (4.64.1)\n",
      "Requirement already satisfied: gensim>=4.0.0 in e:\\anaconda3\\lib\\site-packages (from LibRecommender) (4.2.0)\n",
      "Requirement already satisfied: smart-open>=1.8.1 in e:\\anaconda3\\lib\\site-packages (from gensim>=4.0.0->LibRecommender) (6.3.0)\n",
      "Requirement already satisfied: numpy>=1.17.0 in e:\\anaconda3\\lib\\site-packages (from gensim>=4.0.0->LibRecommender) (1.22.4)\n",
      "Requirement already satisfied: scipy>=0.18.1 in e:\\anaconda3\\lib\\site-packages (from gensim>=4.0.0->LibRecommender) (1.9.3)\n",
      "Requirement already satisfied: colorama in e:\\anaconda3\\lib\\site-packages (from tqdm->LibRecommender) (0.4.6)\n"
     ]
    }
   ],
   "source": [
    "!pip install torch\n",
    "!pip install LibRecommender"
   ]
  },
  {
   "cell_type": "code",
   "execution_count": 2,
   "id": "bcdeedc9",
   "metadata": {},
   "outputs": [
    {
     "name": "stdout",
     "output_type": "stream",
     "text": [
      "WARNING:tensorflow:From E:\\anaconda3\\lib\\site-packages\\tensorflow\\python\\compat\\v2_compat.py:107: disable_resource_variables (from tensorflow.python.ops.variable_scope) is deprecated and will be removed in a future version.\n",
      "Instructions for updating:\n",
      "non-resource variables are not supported in the long term\n"
     ]
    }
   ],
   "source": [
    "import numpy as np\n",
    "import pandas as pd\n",
    "from libreco.data import random_split, DatasetPure\n",
    "from libreco.algorithms import NCF\n",
    "from libreco.evaluation import evaluate"
   ]
  },
  {
   "cell_type": "code",
   "execution_count": 3,
   "id": "e8db0523",
   "metadata": {},
   "outputs": [],
   "source": [
    "ratings = pd.read_csv(\"../ml-latest-small/ratings.csv\")\n",
    "ratings.columns = [\"user\", \"item\", \"label\", \"time\"]\n",
    "\n",
    "movies = pd.read_csv(\"../ml-latest-small/movies.csv\")\n",
    "movies.columns = [\"movieID\", \"Title\", \"Genres\"]"
   ]
  },
  {
   "cell_type": "code",
   "execution_count": 4,
   "id": "1c99772c",
   "metadata": {},
   "outputs": [],
   "source": [
    "training_set, evaluation_set, testing_set = random_split(ratings, multi_ratios=[0.8, 0.1, 0.1])"
   ]
  },
  {
   "cell_type": "code",
   "execution_count": 5,
   "id": "eebfd381",
   "metadata": {},
   "outputs": [],
   "source": [
    "# Convert training, evaluation, and test data into format required by LibRecommender (\"Pure\" collobarative filtering data)\n",
    "training_set, data_info = DatasetPure.build_trainset(training_set)\n",
    "evaluation_set = DatasetPure.build_evalset(evaluation_set)\n",
    "testing_set = DatasetPure.build_testset(testing_set)"
   ]
  },
  {
   "cell_type": "code",
   "execution_count": 6,
   "id": "aa05aae8",
   "metadata": {},
   "outputs": [],
   "source": [
    "ncf = NCF(\n",
    "    task=\"rating\",\n",
    "    data_info=data_info\n",
    ")\n",
    "\n",
    "#Defaults used for hyperparams, see https://librecommender.readthedocs.io/en/latest/api/algorithms/ncf.html"
   ]
  },
  {
   "cell_type": "code",
   "execution_count": 7,
   "id": "449a62f2",
   "metadata": {},
   "outputs": [
    {
     "name": "stdout",
     "output_type": "stream",
     "text": [
      "Training start time: \u001b[35m2023-08-15 14:11:18\u001b[0m\n",
      "WARNING:tensorflow:From E:\\anaconda3\\lib\\site-packages\\keras\\layers\\normalization\\batch_normalization.py:514: _colocate_with (from tensorflow.python.framework.ops) is deprecated and will be removed in a future version.\n",
      "Instructions for updating:\n",
      "Colocations handled automatically by placer.\n"
     ]
    },
    {
     "name": "stderr",
     "output_type": "stream",
     "text": [
      "E:\\anaconda3\\lib\\site-packages\\libreco\\layers\\dense.py:31: UserWarning: `tf.layers.batch_normalization` is deprecated and will be removed in a future version. Please use `tf.keras.layers.BatchNormalization` instead. In particular, `tf.control_dependencies(tf.GraphKeys.UPDATE_OPS)` should not be used (consult the `tf.keras.layers.BatchNormalization` documentation).\n",
      "  net = tf.layers.batch_normalization(net, training=is_training)\n",
      "2023-08-15 14:11:18,498 - WARNING - From E:\\anaconda3\\lib\\site-packages\\keras\\layers\\normalization\\batch_normalization.py:514: _colocate_with (from tensorflow.python.framework.ops) is deprecated and will be removed in a future version.\n",
      "Instructions for updating:\n",
      "Colocations handled automatically by placer.\n",
      "E:\\anaconda3\\lib\\site-packages\\libreco\\layers\\dense.py:39: UserWarning: `tf.layers.batch_normalization` is deprecated and will be removed in a future version. Please use `tf.keras.layers.BatchNormalization` instead. In particular, `tf.control_dependencies(tf.GraphKeys.UPDATE_OPS)` should not be used (consult the `tf.keras.layers.BatchNormalization` documentation).\n",
      "  net = tf.layers.batch_normalization(net, training=is_training)\n",
      "train: 100%|████████████████████████████████| 626/626 [00:04<00:00, 128.12it/s]\n"
     ]
    },
    {
     "name": "stdout",
     "output_type": "stream",
     "text": [
      "Epoch 1 elapsed: 4.888s\n",
      "\t \u001b[32mtrain_loss: 1.1951\u001b[0m\n"
     ]
    },
    {
     "name": "stderr",
     "output_type": "stream",
     "text": [
      "eval_pointwise: 100%|████████████████████████████| 2/2 [00:00<00:00, 57.14it/s]\n"
     ]
    },
    {
     "name": "stdout",
     "output_type": "stream",
     "text": [
      "\t eval rmse: 0.8970\n",
      "==============================\n"
     ]
    },
    {
     "name": "stderr",
     "output_type": "stream",
     "text": [
      "train: 100%|████████████████████████████████| 626/626 [00:04<00:00, 134.97it/s]\n"
     ]
    },
    {
     "name": "stdout",
     "output_type": "stream",
     "text": [
      "Epoch 2 elapsed: 4.640s\n",
      "\t \u001b[32mtrain_loss: 0.7813\u001b[0m\n"
     ]
    },
    {
     "name": "stderr",
     "output_type": "stream",
     "text": [
      "eval_pointwise: 100%|███████████████████████████| 2/2 [00:00<00:00, 250.00it/s]\n"
     ]
    },
    {
     "name": "stdout",
     "output_type": "stream",
     "text": [
      "\t eval rmse: 0.9749\n",
      "==============================\n"
     ]
    },
    {
     "name": "stderr",
     "output_type": "stream",
     "text": [
      "train: 100%|████████████████████████████████| 626/626 [00:05<00:00, 121.15it/s]\n"
     ]
    },
    {
     "name": "stdout",
     "output_type": "stream",
     "text": [
      "Epoch 3 elapsed: 5.169s\n",
      "\t \u001b[32mtrain_loss: 0.6999\u001b[0m\n"
     ]
    },
    {
     "name": "stderr",
     "output_type": "stream",
     "text": [
      "eval_pointwise: 100%|███████████████████████████| 2/2 [00:00<00:00, 222.23it/s]\n"
     ]
    },
    {
     "name": "stdout",
     "output_type": "stream",
     "text": [
      "\t eval rmse: 0.8952\n",
      "==============================\n"
     ]
    },
    {
     "name": "stderr",
     "output_type": "stream",
     "text": [
      "train: 100%|████████████████████████████████| 626/626 [00:05<00:00, 122.17it/s]\n"
     ]
    },
    {
     "name": "stdout",
     "output_type": "stream",
     "text": [
      "Epoch 4 elapsed: 5.126s\n",
      "\t \u001b[32mtrain_loss: 0.6249\u001b[0m\n"
     ]
    },
    {
     "name": "stderr",
     "output_type": "stream",
     "text": [
      "eval_pointwise: 100%|███████████████████████████| 2/2 [00:00<00:00, 222.24it/s]\n"
     ]
    },
    {
     "name": "stdout",
     "output_type": "stream",
     "text": [
      "\t eval rmse: 0.9513\n",
      "==============================\n"
     ]
    },
    {
     "name": "stderr",
     "output_type": "stream",
     "text": [
      "train: 100%|████████████████████████████████| 626/626 [00:05<00:00, 122.24it/s]\n"
     ]
    },
    {
     "name": "stdout",
     "output_type": "stream",
     "text": [
      "Epoch 5 elapsed: 5.123s\n",
      "\t \u001b[32mtrain_loss: 0.5471\u001b[0m\n"
     ]
    },
    {
     "name": "stderr",
     "output_type": "stream",
     "text": [
      "eval_pointwise: 100%|███████████████████████████| 2/2 [00:00<00:00, 200.02it/s]\n"
     ]
    },
    {
     "name": "stdout",
     "output_type": "stream",
     "text": [
      "\t eval rmse: 0.9355\n",
      "==============================\n"
     ]
    },
    {
     "name": "stderr",
     "output_type": "stream",
     "text": [
      "train: 100%|████████████████████████████████| 626/626 [00:05<00:00, 122.55it/s]\n"
     ]
    },
    {
     "name": "stdout",
     "output_type": "stream",
     "text": [
      "Epoch 6 elapsed: 5.109s\n",
      "\t \u001b[32mtrain_loss: 0.4806\u001b[0m\n"
     ]
    },
    {
     "name": "stderr",
     "output_type": "stream",
     "text": [
      "eval_pointwise: 100%|███████████████████████████| 2/2 [00:00<00:00, 250.00it/s]\n"
     ]
    },
    {
     "name": "stdout",
     "output_type": "stream",
     "text": [
      "\t eval rmse: 0.9213\n",
      "==============================\n"
     ]
    },
    {
     "name": "stderr",
     "output_type": "stream",
     "text": [
      "train: 100%|████████████████████████████████| 626/626 [00:05<00:00, 122.38it/s]\n"
     ]
    },
    {
     "name": "stdout",
     "output_type": "stream",
     "text": [
      "Epoch 7 elapsed: 5.117s\n",
      "\t \u001b[32mtrain_loss: 0.4263\u001b[0m\n"
     ]
    },
    {
     "name": "stderr",
     "output_type": "stream",
     "text": [
      "eval_pointwise: 100%|███████████████████████████| 2/2 [00:00<00:00, 249.87it/s]\n"
     ]
    },
    {
     "name": "stdout",
     "output_type": "stream",
     "text": [
      "\t eval rmse: 0.9475\n",
      "==============================\n"
     ]
    },
    {
     "name": "stderr",
     "output_type": "stream",
     "text": [
      "train: 100%|████████████████████████████████| 626/626 [00:05<00:00, 122.91it/s]\n"
     ]
    },
    {
     "name": "stdout",
     "output_type": "stream",
     "text": [
      "Epoch 8 elapsed: 5.095s\n",
      "\t \u001b[32mtrain_loss: 0.3892\u001b[0m\n"
     ]
    },
    {
     "name": "stderr",
     "output_type": "stream",
     "text": [
      "eval_pointwise: 100%|███████████████████████████| 2/2 [00:00<00:00, 285.71it/s]\n"
     ]
    },
    {
     "name": "stdout",
     "output_type": "stream",
     "text": [
      "\t eval rmse: 0.9573\n",
      "==============================\n"
     ]
    },
    {
     "name": "stderr",
     "output_type": "stream",
     "text": [
      "train: 100%|████████████████████████████████| 626/626 [00:05<00:00, 123.11it/s]\n"
     ]
    },
    {
     "name": "stdout",
     "output_type": "stream",
     "text": [
      "Epoch 9 elapsed: 5.087s\n",
      "\t \u001b[32mtrain_loss: 0.358\u001b[0m\n"
     ]
    },
    {
     "name": "stderr",
     "output_type": "stream",
     "text": [
      "eval_pointwise: 100%|███████████████████████████| 2/2 [00:00<00:00, 200.01it/s]\n"
     ]
    },
    {
     "name": "stdout",
     "output_type": "stream",
     "text": [
      "\t eval rmse: 0.9635\n",
      "==============================\n"
     ]
    },
    {
     "name": "stderr",
     "output_type": "stream",
     "text": [
      "train: 100%|████████████████████████████████| 626/626 [00:05<00:00, 120.45it/s]\n"
     ]
    },
    {
     "name": "stdout",
     "output_type": "stream",
     "text": [
      "Epoch 10 elapsed: 5.199s\n",
      "\t \u001b[32mtrain_loss: 0.3324\u001b[0m\n"
     ]
    },
    {
     "name": "stderr",
     "output_type": "stream",
     "text": [
      "eval_pointwise: 100%|███████████████████████████| 2/2 [00:00<00:00, 222.24it/s]\n"
     ]
    },
    {
     "name": "stdout",
     "output_type": "stream",
     "text": [
      "\t eval rmse: 0.9849\n",
      "==============================\n"
     ]
    },
    {
     "name": "stderr",
     "output_type": "stream",
     "text": [
      "train: 100%|████████████████████████████████| 626/626 [00:05<00:00, 122.17it/s]\n"
     ]
    },
    {
     "name": "stdout",
     "output_type": "stream",
     "text": [
      "Epoch 11 elapsed: 5.125s\n",
      "\t \u001b[32mtrain_loss: 0.3146\u001b[0m\n"
     ]
    },
    {
     "name": "stderr",
     "output_type": "stream",
     "text": [
      "eval_pointwise: 100%|███████████████████████████| 2/2 [00:00<00:00, 285.77it/s]\n"
     ]
    },
    {
     "name": "stdout",
     "output_type": "stream",
     "text": [
      "\t eval rmse: 0.9877\n",
      "==============================\n"
     ]
    },
    {
     "name": "stderr",
     "output_type": "stream",
     "text": [
      "train: 100%|████████████████████████████████| 626/626 [00:05<00:00, 122.14it/s]\n"
     ]
    },
    {
     "name": "stdout",
     "output_type": "stream",
     "text": [
      "Epoch 12 elapsed: 5.126s\n",
      "\t \u001b[32mtrain_loss: 0.2981\u001b[0m\n"
     ]
    },
    {
     "name": "stderr",
     "output_type": "stream",
     "text": [
      "eval_pointwise: 100%|███████████████████████████| 2/2 [00:00<00:00, 199.98it/s]\n"
     ]
    },
    {
     "name": "stdout",
     "output_type": "stream",
     "text": [
      "\t eval rmse: 0.9920\n",
      "==============================\n"
     ]
    },
    {
     "name": "stderr",
     "output_type": "stream",
     "text": [
      "train: 100%|████████████████████████████████| 626/626 [00:05<00:00, 123.18it/s]\n"
     ]
    },
    {
     "name": "stdout",
     "output_type": "stream",
     "text": [
      "Epoch 13 elapsed: 5.084s\n",
      "\t \u001b[32mtrain_loss: 0.285\u001b[0m\n"
     ]
    },
    {
     "name": "stderr",
     "output_type": "stream",
     "text": [
      "eval_pointwise: 100%|███████████████████████████| 2/2 [00:00<00:00, 249.99it/s]\n"
     ]
    },
    {
     "name": "stdout",
     "output_type": "stream",
     "text": [
      "\t eval rmse: 1.0038\n",
      "==============================\n"
     ]
    },
    {
     "name": "stderr",
     "output_type": "stream",
     "text": [
      "train: 100%|████████████████████████████████| 626/626 [00:05<00:00, 122.94it/s]\n"
     ]
    },
    {
     "name": "stdout",
     "output_type": "stream",
     "text": [
      "Epoch 14 elapsed: 5.094s\n",
      "\t \u001b[32mtrain_loss: 0.2757\u001b[0m\n"
     ]
    },
    {
     "name": "stderr",
     "output_type": "stream",
     "text": [
      "eval_pointwise: 100%|███████████████████████████| 2/2 [00:00<00:00, 222.22it/s]\n"
     ]
    },
    {
     "name": "stdout",
     "output_type": "stream",
     "text": [
      "\t eval rmse: 1.0041\n",
      "==============================\n"
     ]
    },
    {
     "name": "stderr",
     "output_type": "stream",
     "text": [
      "train: 100%|████████████████████████████████| 626/626 [00:05<00:00, 122.15it/s]\n"
     ]
    },
    {
     "name": "stdout",
     "output_type": "stream",
     "text": [
      "Epoch 15 elapsed: 5.128s\n",
      "\t \u001b[32mtrain_loss: 0.2651\u001b[0m\n"
     ]
    },
    {
     "name": "stderr",
     "output_type": "stream",
     "text": [
      "eval_pointwise: 100%|███████████████████████████| 2/2 [00:00<00:00, 249.98it/s]\n"
     ]
    },
    {
     "name": "stdout",
     "output_type": "stream",
     "text": [
      "\t eval rmse: 1.0042\n",
      "==============================\n"
     ]
    },
    {
     "name": "stderr",
     "output_type": "stream",
     "text": [
      "train: 100%|████████████████████████████████| 626/626 [00:05<00:00, 122.41it/s]\n"
     ]
    },
    {
     "name": "stdout",
     "output_type": "stream",
     "text": [
      "Epoch 16 elapsed: 5.116s\n",
      "\t \u001b[32mtrain_loss: 0.2567\u001b[0m\n"
     ]
    },
    {
     "name": "stderr",
     "output_type": "stream",
     "text": [
      "eval_pointwise: 100%|███████████████████████████| 2/2 [00:00<00:00, 250.01it/s]\n"
     ]
    },
    {
     "name": "stdout",
     "output_type": "stream",
     "text": [
      "\t eval rmse: 1.0253\n",
      "==============================\n"
     ]
    },
    {
     "name": "stderr",
     "output_type": "stream",
     "text": [
      "train: 100%|████████████████████████████████| 626/626 [00:05<00:00, 122.91it/s]\n"
     ]
    },
    {
     "name": "stdout",
     "output_type": "stream",
     "text": [
      "Epoch 17 elapsed: 5.095s\n",
      "\t \u001b[32mtrain_loss: 0.2507\u001b[0m\n"
     ]
    },
    {
     "name": "stderr",
     "output_type": "stream",
     "text": [
      "eval_pointwise: 100%|███████████████████████████| 2/2 [00:00<00:00, 222.22it/s]\n"
     ]
    },
    {
     "name": "stdout",
     "output_type": "stream",
     "text": [
      "\t eval rmse: 1.0049\n",
      "==============================\n"
     ]
    },
    {
     "name": "stderr",
     "output_type": "stream",
     "text": [
      "train: 100%|████████████████████████████████| 626/626 [00:05<00:00, 122.50it/s]\n"
     ]
    },
    {
     "name": "stdout",
     "output_type": "stream",
     "text": [
      "Epoch 18 elapsed: 5.113s\n",
      "\t \u001b[32mtrain_loss: 0.2436\u001b[0m\n"
     ]
    },
    {
     "name": "stderr",
     "output_type": "stream",
     "text": [
      "eval_pointwise: 100%|███████████████████████████| 2/2 [00:00<00:00, 250.00it/s]\n"
     ]
    },
    {
     "name": "stdout",
     "output_type": "stream",
     "text": [
      "\t eval rmse: 1.0166\n",
      "==============================\n"
     ]
    },
    {
     "name": "stderr",
     "output_type": "stream",
     "text": [
      "train: 100%|████████████████████████████████| 626/626 [00:05<00:00, 122.74it/s]\n"
     ]
    },
    {
     "name": "stdout",
     "output_type": "stream",
     "text": [
      "Epoch 19 elapsed: 5.102s\n",
      "\t \u001b[32mtrain_loss: 0.2373\u001b[0m\n"
     ]
    },
    {
     "name": "stderr",
     "output_type": "stream",
     "text": [
      "eval_pointwise: 100%|███████████████████████████| 2/2 [00:00<00:00, 250.02it/s]\n"
     ]
    },
    {
     "name": "stdout",
     "output_type": "stream",
     "text": [
      "\t eval rmse: 1.0161\n",
      "==============================\n"
     ]
    },
    {
     "name": "stderr",
     "output_type": "stream",
     "text": [
      "train: 100%|████████████████████████████████| 626/626 [00:05<00:00, 122.41it/s]\n"
     ]
    },
    {
     "name": "stdout",
     "output_type": "stream",
     "text": [
      "Epoch 20 elapsed: 5.116s\n",
      "\t \u001b[32mtrain_loss: 0.2287\u001b[0m\n"
     ]
    },
    {
     "name": "stderr",
     "output_type": "stream",
     "text": [
      "eval_pointwise: 100%|███████████████████████████| 2/2 [00:00<00:00, 249.99it/s]"
     ]
    },
    {
     "name": "stdout",
     "output_type": "stream",
     "text": [
      "\t eval rmse: 1.0187\n",
      "==============================\n"
     ]
    },
    {
     "name": "stderr",
     "output_type": "stream",
     "text": [
      "\n"
     ]
    }
   ],
   "source": [
    "# Train it\n",
    "\n",
    "ncf.fit(\n",
    "    training_set,\n",
    "    neg_sampling=False, #False for explicit ratings, true for implicit, positive-only data\n",
    "    verbose=2, # Print evaluation metrics\n",
    "    eval_data=evaluation_set,\n",
    "    metrics=[\"loss\"],\n",
    ")"
   ]
  },
  {
   "cell_type": "code",
   "execution_count": 8,
   "id": "85f0422c",
   "metadata": {},
   "outputs": [
    {
     "name": "stderr",
     "output_type": "stream",
     "text": [
      "eval_pointwise: 100%|███████████████████████████| 2/2 [00:00<00:00, 250.07it/s]\n"
     ]
    },
    {
     "data": {
      "text/plain": [
       "{'loss': 1.032931}"
      ]
     },
     "execution_count": 8,
     "metadata": {},
     "output_type": "execute_result"
    }
   ],
   "source": [
    "# Test it\n",
    "\n",
    "evaluate(\n",
    "    model=ncf,\n",
    "    data=testing_set,\n",
    "    neg_sampling=False,\n",
    "    metrics=[\"loss\"], #for implicit, might use precision or recall\n",
    ")"
   ]
  },
  {
   "cell_type": "code",
   "execution_count": 9,
   "id": "9595b39f",
   "metadata": {},
   "outputs": [
    {
     "name": "stdout",
     "output_type": "stream",
     "text": [
      "2.5 30    Dangerous Minds (1995)\n",
      "Name: Title, dtype: object\n",
      "3.0 833    Dumbo (1941)\n",
      "Name: Title, dtype: object\n",
      "3.0 859    Sleepers (1996)\n",
      "Name: Title, dtype: object\n",
      "2.0 906    Escape from New York (1981)\n",
      "Name: Title, dtype: object\n",
      "4.0 931    Cinema Paradiso (Nuovo cinema Paradiso) (1989)\n",
      "Name: Title, dtype: object\n",
      "2.0 1017    Deer Hunter, The (1978)\n",
      "Name: Title, dtype: object\n",
      "2.0 1041    Ben-Hur (1959)\n",
      "Name: Title, dtype: object\n",
      "2.0 1047    Gandhi (1982)\n",
      "Name: Title, dtype: object\n",
      "3.5 1083    Dracula (Bram Stoker's Dracula) (1992)\n",
      "Name: Title, dtype: object\n",
      "2.0 1087    Cape Fear (1991)\n",
      "Name: Title, dtype: object\n",
      "2.5 1111    Star Trek: The Motion Picture (1979)\n",
      "Name: Title, dtype: object\n",
      "1.0 1140    Beavis and Butt-Head Do America (1996)\n",
      "Name: Title, dtype: object\n",
      "4.0 1515    French Connection, The (1971)\n",
      "Name: Title, dtype: object\n",
      "4.0 1665    Tron (1982)\n",
      "Name: Title, dtype: object\n",
      "3.0 1708    Gods Must Be Crazy, The (1980)\n",
      "Name: Title, dtype: object\n",
      "2.0 1743    Willow (1988)\n",
      "Name: Title, dtype: object\n",
      "2.0 1815    Antz (1998)\n",
      "Name: Title, dtype: object\n",
      "2.5 1962    Fly, The (1986)\n",
      "Name: Title, dtype: object\n",
      "1.0 2380    Time Bandits (1981)\n",
      "Name: Title, dtype: object\n",
      "3.0 2925    Blazing Saddles (1974)\n",
      "Name: Title, dtype: object\n"
     ]
    }
   ],
   "source": [
    "# Print out every movie user 1 rated\n",
    "filtered_rows = ratings[ratings.user == 1]\n",
    "\n",
    "for index, row in filtered_rows.iterrows():\n",
    "    rating = row['label']\n",
    "    movie = movies[movies.movieID == row['item']]\n",
    "    movieTitle = movie['Title']\n",
    "    print(rating, movieTitle)"
   ]
  },
  {
   "cell_type": "code",
   "execution_count": 10,
   "id": "dc40dae0",
   "metadata": {},
   "outputs": [
    {
     "data": {
      "text/plain": [
       "array([2.7327979], dtype=float32)"
      ]
     },
     "execution_count": 10,
     "metadata": {},
     "output_type": "execute_result"
    }
   ],
   "source": [
    "# Predict rating of user 1 (who seems to like artsy dramas) of movie 1 (Toy Story)\n",
    "ncf.predict(user=1, item=1)"
   ]
  },
  {
   "cell_type": "code",
   "execution_count": 11,
   "id": "2bebb5e1",
   "metadata": {},
   "outputs": [
    {
     "name": "stdout",
     "output_type": "stream",
     "text": [
      "{1: array([ 2023, 27773,  1856,   481, 54259,  7155,  1147,  3896,  3452,\n",
      "       27611], dtype=int64)}\n"
     ]
    }
   ],
   "source": [
    "# recommend 10 items for user 1\n",
    "recs = ncf.recommend_user(user=1, n_rec=10)\n",
    "print (recs)"
   ]
  },
  {
   "cell_type": "code",
   "execution_count": 12,
   "id": "3937bb64",
   "metadata": {},
   "outputs": [
    {
     "name": "stdout",
     "output_type": "stream",
     "text": [
      "1585    Godfather: Part III, The (1990)\n",
      "Name: Title, dtype: object\n",
      "5941    Old Boy (2003)\n",
      "Name: Title, dtype: object\n",
      "1435    Kurt & Courtney (1998)\n",
      "Name: Title, dtype: object\n",
      "428    Kalifornia (1993)\n",
      "Name: Title, dtype: object\n",
      "6741    Stardust (2007)\n",
      "Name: Title, dtype: object\n",
      "5028    Calendar Girls (2003)\n",
      "Name: Title, dtype: object\n",
      "915    When We Were Kings (1996)\n",
      "Name: Title, dtype: object\n",
      "3112    Way of the Gun, The (2000)\n",
      "Name: Title, dtype: object\n",
      "2756    Romeo Must Die (2000)\n",
      "Name: Title, dtype: object\n",
      "5919    Battlestar Galactica (2003)\n",
      "Name: Title, dtype: object\n"
     ]
    }
   ],
   "source": [
    "# Print what these are\n",
    "myRecs = recs[1]\n",
    "for rec in myRecs:\n",
    "    print(movies[movies.movieID == rec].Title)"
   ]
  },
  {
   "cell_type": "code",
   "execution_count": null,
   "id": "026a8569",
   "metadata": {},
   "outputs": [],
   "source": []
  }
 ],
 "metadata": {
  "kernelspec": {
   "display_name": "Python 3 (ipykernel)",
   "language": "python",
   "name": "python3"
  },
  "language_info": {
   "codemirror_mode": {
    "name": "ipython",
    "version": 3
   },
   "file_extension": ".py",
   "mimetype": "text/x-python",
   "name": "python",
   "nbconvert_exporter": "python",
   "pygments_lexer": "ipython3",
   "version": "3.8.15"
  }
 },
 "nbformat": 4,
 "nbformat_minor": 5
}
